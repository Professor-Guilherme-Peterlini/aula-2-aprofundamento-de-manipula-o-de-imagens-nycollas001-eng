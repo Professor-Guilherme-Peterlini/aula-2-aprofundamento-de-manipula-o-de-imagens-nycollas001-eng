{
 "cells": [
  {
   "cell_type": "code",
   "execution_count": 72,
   "metadata": {},
   "outputs": [
    {
     "name": "stdout",
     "output_type": "stream",
     "text": [
      "Requirement already satisfied: pillow in /home/codespace/.local/lib/python3.12/site-packages (11.0.0)\n",
      "Note: you may need to restart the kernel to use updated packages.\n"
     ]
    }
   ],
   "source": [
    "pip install pillow"
   ]
  },
  {
   "cell_type": "code",
   "execution_count": 73,
   "metadata": {},
   "outputs": [],
   "source": [
    "#importa a imagem ,o filtro\n",
    "from PIL import Image, ImageFilter, ImageOps"
   ]
  },
  {
   "cell_type": "code",
   "execution_count": 74,
   "metadata": {},
   "outputs": [],
   "source": [
    "imagem = Image.open('desenho.png')\n",
    "#abrir a imagem#"
   ]
  },
  {
   "cell_type": "code",
   "execution_count": 75,
   "metadata": {},
   "outputs": [],
   "source": [
    "# Função para converter para escala de cinza\n",
    "def converter_escala_cinza(imagem):\n",
    "    img_media = imagem.convert('L')\n",
    "\n",
    "\n",
    "    return img_media\n",
    "\n",
    "#\n",
    "imagem_pequena = converter_escala_cinza(imagem)\n",
    "imagem_pequena.save('imagem_redimensionada.png')"
   ]
  },
  {
   "cell_type": "code",
   "execution_count": 76,
   "metadata": {},
   "outputs": [
    {
     "ename": "ValueError",
     "evalue": "image has wrong mode",
     "output_type": "error",
     "traceback": [
      "\u001b[0;31m---------------------------------------------------------------------------\u001b[0m",
      "\u001b[0;31mValueError\u001b[0m                                Traceback (most recent call last)",
      "Cell \u001b[0;32mIn[76], line 10\u001b[0m\n\u001b[1;32m      2\u001b[0m     img_luminosidade \u001b[38;5;241m=\u001b[39m imagem\u001b[38;5;241m.\u001b[39mconvert(\u001b[38;5;124m'\u001b[39m\u001b[38;5;124mL\u001b[39m\u001b[38;5;124m'\u001b[39m, matrix\u001b[38;5;241m=\u001b[39m[\n\u001b[1;32m      3\u001b[0m         \u001b[38;5;241m0.299\u001b[39m, \u001b[38;5;241m0.587\u001b[39m, \u001b[38;5;241m0.114\u001b[39m, \u001b[38;5;241m0\u001b[39m,\n\u001b[1;32m      4\u001b[0m         \u001b[38;5;241m0.299\u001b[39m, \u001b[38;5;241m0.587\u001b[39m, \u001b[38;5;241m0.114\u001b[39m, \u001b[38;5;241m0\u001b[39m,\n\u001b[1;32m      5\u001b[0m         \u001b[38;5;241m0.299\u001b[39m, \u001b[38;5;241m0.587\u001b[39m, \u001b[38;5;241m0.114\u001b[39m, \u001b[38;5;241m0\u001b[39m\n\u001b[1;32m      6\u001b[0m     ])\n\u001b[1;32m      8\u001b[0m     \u001b[38;5;28;01mreturn\u001b[39;00m img_luminosidade\n\u001b[0;32m---> 10\u001b[0m imagem_cinza_luminosidade \u001b[38;5;241m=\u001b[39m \u001b[43mconverter_escala_cinza_luminosidade\u001b[49m\u001b[43m(\u001b[49m\u001b[43mimagem\u001b[49m\u001b[43m)\u001b[49m\n\u001b[1;32m     11\u001b[0m imagem_cinza_luminosidade\u001b[38;5;241m.\u001b[39msave(\u001b[38;5;124m'\u001b[39m\u001b[38;5;124mdesenho_cinza_luminosidade\u001b[39m\u001b[38;5;124m'\u001b[39m)\n",
      "Cell \u001b[0;32mIn[76], line 2\u001b[0m, in \u001b[0;36mconverter_escala_cinza_luminosidade\u001b[0;34m(imagem)\u001b[0m\n\u001b[1;32m      1\u001b[0m \u001b[38;5;28;01mdef\u001b[39;00m \u001b[38;5;21mconverter_escala_cinza_luminosidade\u001b[39m(imagem):\n\u001b[0;32m----> 2\u001b[0m     img_luminosidade \u001b[38;5;241m=\u001b[39m \u001b[43mimagem\u001b[49m\u001b[38;5;241;43m.\u001b[39;49m\u001b[43mconvert\u001b[49m\u001b[43m(\u001b[49m\u001b[38;5;124;43m'\u001b[39;49m\u001b[38;5;124;43mL\u001b[39;49m\u001b[38;5;124;43m'\u001b[39;49m\u001b[43m,\u001b[49m\u001b[43m \u001b[49m\u001b[43mmatrix\u001b[49m\u001b[38;5;241;43m=\u001b[39;49m\u001b[43m[\u001b[49m\n\u001b[1;32m      3\u001b[0m \u001b[43m        \u001b[49m\u001b[38;5;241;43m0.299\u001b[39;49m\u001b[43m,\u001b[49m\u001b[43m \u001b[49m\u001b[38;5;241;43m0.587\u001b[39;49m\u001b[43m,\u001b[49m\u001b[43m \u001b[49m\u001b[38;5;241;43m0.114\u001b[39;49m\u001b[43m,\u001b[49m\u001b[43m \u001b[49m\u001b[38;5;241;43m0\u001b[39;49m\u001b[43m,\u001b[49m\n\u001b[1;32m      4\u001b[0m \u001b[43m        \u001b[49m\u001b[38;5;241;43m0.299\u001b[39;49m\u001b[43m,\u001b[49m\u001b[43m \u001b[49m\u001b[38;5;241;43m0.587\u001b[39;49m\u001b[43m,\u001b[49m\u001b[43m \u001b[49m\u001b[38;5;241;43m0.114\u001b[39;49m\u001b[43m,\u001b[49m\u001b[43m \u001b[49m\u001b[38;5;241;43m0\u001b[39;49m\u001b[43m,\u001b[49m\n\u001b[1;32m      5\u001b[0m \u001b[43m        \u001b[49m\u001b[38;5;241;43m0.299\u001b[39;49m\u001b[43m,\u001b[49m\u001b[43m \u001b[49m\u001b[38;5;241;43m0.587\u001b[39;49m\u001b[43m,\u001b[49m\u001b[43m \u001b[49m\u001b[38;5;241;43m0.114\u001b[39;49m\u001b[43m,\u001b[49m\u001b[43m \u001b[49m\u001b[38;5;241;43m0\u001b[39;49m\n\u001b[1;32m      6\u001b[0m \u001b[43m    \u001b[49m\u001b[43m]\u001b[49m\u001b[43m)\u001b[49m\n\u001b[1;32m      8\u001b[0m     \u001b[38;5;28;01mreturn\u001b[39;00m img_luminosidade\n",
      "File \u001b[0;32m~/.local/lib/python3.12/site-packages/PIL/Image.py:1012\u001b[0m, in \u001b[0;36mImage.convert\u001b[0;34m(self, mode, matrix, dither, palette, colors)\u001b[0m\n\u001b[1;32m   1010\u001b[0m     msg \u001b[38;5;241m=\u001b[39m \u001b[38;5;124m\"\u001b[39m\u001b[38;5;124millegal conversion\u001b[39m\u001b[38;5;124m\"\u001b[39m\n\u001b[1;32m   1011\u001b[0m     \u001b[38;5;28;01mraise\u001b[39;00m \u001b[38;5;167;01mValueError\u001b[39;00m(msg)\n\u001b[0;32m-> 1012\u001b[0m im \u001b[38;5;241m=\u001b[39m \u001b[38;5;28;43mself\u001b[39;49m\u001b[38;5;241;43m.\u001b[39;49m\u001b[43mim\u001b[49m\u001b[38;5;241;43m.\u001b[39;49m\u001b[43mconvert_matrix\u001b[49m\u001b[43m(\u001b[49m\u001b[43mmode\u001b[49m\u001b[43m,\u001b[49m\u001b[43m \u001b[49m\u001b[43mmatrix\u001b[49m\u001b[43m)\u001b[49m\n\u001b[1;32m   1013\u001b[0m new_im \u001b[38;5;241m=\u001b[39m \u001b[38;5;28mself\u001b[39m\u001b[38;5;241m.\u001b[39m_new(im)\n\u001b[1;32m   1014\u001b[0m \u001b[38;5;28;01mif\u001b[39;00m has_transparency \u001b[38;5;129;01mand\u001b[39;00m \u001b[38;5;28mself\u001b[39m\u001b[38;5;241m.\u001b[39mim\u001b[38;5;241m.\u001b[39mbands \u001b[38;5;241m==\u001b[39m \u001b[38;5;241m3\u001b[39m:\n",
      "\u001b[0;31mValueError\u001b[0m: image has wrong mode"
     ]
    }
   ],
   "source": [
    "def converter_escala_cinza_luminosidade(imagem):\n",
    "    img_luminosidade = imagem.convert('L', matrix=[\n",
    "        0.299, 0.587, 0.114, 0,\n",
    "        0.299, 0.587, 0.114, 0,\n",
    "        0.299, 0.587, 0.114, 0\n",
    "    ])\n",
    "    \n",
    "    return img_luminosidade\n",
    "\n",
    "imagem_cinza_luminosidade = converter_escala_cinza_luminosidade(imagem)\n",
    "imagem_cinza_luminosidade.save('desenho_cinza_luminosidade')"
   ]
  },
  {
   "cell_type": "code",
   "execution_count": null,
   "metadata": {},
   "outputs": [],
   "source": [
    "#  5 Função para detectar bordas\n",
    "def detectar_bordas(imagem):\n",
    "    img_cinza = imagem.convert('L')\n",
    "    bordas_sobel_h = img_cinza.filter(ImageFilter.Kernel((3, 3), \n",
    "        [-1, 0, 1, -2, 0, 2, -1, 0, 1]))\n",
    "    bordas_prewitt = img_cinza.filter(ImageFilter.CONTOUR)\n",
    "    bordas_laplace = img_cinza.filter(ImageFilter.Kernel((3, 3),\n",
    "        [0, 1, 0, 1, -4, 1, 0, 1, 0]))\n",
    "    \n",
    "    return {'sobel_h': bordas_sobel_h, \n",
    "            'prewitt': bordas_prewitt, \n",
    "            'laplace': bordas_laplace}\n",
    "\n"
   ]
  },
  {
   "cell_type": "code",
   "execution_count": 58,
   "metadata": {},
   "outputs": [],
   "source": [
    "# Função para realizar o pipeline de processamento\n",
    "def pipeline_processamento(imagem, limiar=128):\n",
    "    #conversão para escala de cinza\n",
    "    img_cinza = imagem.convert('L')\n",
    "\n",
    "    #equalização de histogarama\n",
    "    img_equalizada = ImageOps.equalize(img_cinza)\n",
    "\n",
    "    #detequição de bordas\n",
    "    img_bordas = img_equalizada.filter(ImageFilter.FIND_EDGES)\n",
    "\n",
    "    #limiarização\n",
    "    img_final = img_bordas.point(lambda x: 255 if x > limiar else 0)\n",
    "    return img_final"
   ]
  }
 ],
 "metadata": {
  "kernelspec": {
   "display_name": "Python 3",
   "language": "python",
   "name": "python3"
  },
  "language_info": {
   "codemirror_mode": {
    "name": "ipython",
    "version": 3
   },
   "file_extension": ".py",
   "mimetype": "text/x-python",
   "name": "python",
   "nbconvert_exporter": "python",
   "pygments_lexer": "ipython3",
   "version": "3.12.1"
  }
 },
 "nbformat": 4,
 "nbformat_minor": 2
}
